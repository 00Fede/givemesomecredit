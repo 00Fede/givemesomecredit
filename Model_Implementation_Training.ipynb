{
  "cells": [
    {
      "cell_type": "markdown",
      "metadata": {},
      "source": [
        "# Predicción de default financiero usando métodos de aprendizaje automático\n",
        "### Implementación del modelo y entrenamiento\n",
        "\n",
        "**Estudiantes**\n",
        "\n",
        "Federico Ocampo Ortiz, Ing. Sistemas. e-mail: federico.ocampoo@udea.edu.co\n",
        "\n",
        "Andrés Felipe Orrego Quintero. Ing. Sistemas. e-mail: andres.orrego2@udea.edu.co\n",
        "\n",
        "**Asesora**\n",
        "\n",
        "Maria Bernarda Salazar Sánchez, PhD. e-mail: bernarda.salazar@udea.edu.co"
      ]
    },
    {
      "cell_type": "code",
      "execution_count": 17,
      "metadata": {
        "id": "LIZSZOtnZq2s"
      },
      "outputs": [],
      "source": [
        "# Data processing\n",
        "# ==============================================================================\n",
        "import pandas as pd\n",
        "\n",
        "# Data visualization\n",
        "# ==============================================================================\n",
        "import matplotlib.pyplot as plt\n",
        "import seaborn as sns\n",
        "\n",
        "# Model selection and evaluation\n",
        "# ==============================================================================\n",
        "from sklearn.model_selection import train_test_split, cross_validate, GridSearchCV\n",
        "from sklearn.metrics import roc_curve, auc, roc_auc_score, accuracy_score, precision_score, recall_score, f1_score\n",
        "from sklearn.metrics import ConfusionMatrixDisplay, confusion_matrix\n",
        "\n",
        "# Machine learning models\n",
        "# ==============================================================================\n",
        "from sklearn import svm, neighbors\n",
        "from sklearn.naive_bayes import ComplementNB\n",
        "from sklearn import tree\n",
        "from sklearn.ensemble import RandomForestClassifier, GradientBoostingClassifier\n",
        "from sklearn.neural_network import MLPClassifier\n",
        "from sklearn.linear_model import LogisticRegression\n",
        "from xgboost import XGBClassifier\n",
        "from sklearn.dummy import DummyClassifier\n",
        "\n",
        "# Imbalanced data handling\n",
        "# ==============================================================================\n",
        "from imblearn.over_sampling import SMOTE\n",
        "from collections import Counter\n",
        "from imblearn.under_sampling import RandomUnderSampler\n",
        "\n",
        "# Model persistence\n",
        "# ==============================================================================\n",
        "import joblib\n"
      ]
    },
    {
      "cell_type": "markdown",
      "metadata": {},
      "source": [
        "# Dataset"
      ]
    },
    {
      "cell_type": "code",
      "execution_count": 19,
      "metadata": {
        "colab": {
          "base_uri": "https://localhost:8080/",
          "height": 383
        },
        "id": "LWQQefhlfN5L",
        "outputId": "6bedff00-8639-4714-a40d-4802cc059a43"
      },
      "outputs": [
        {
          "data": {
            "text/html": [
              "<div>\n",
              "<style scoped>\n",
              "    .dataframe tbody tr th:only-of-type {\n",
              "        vertical-align: middle;\n",
              "    }\n",
              "\n",
              "    .dataframe tbody tr th {\n",
              "        vertical-align: top;\n",
              "    }\n",
              "\n",
              "    .dataframe thead th {\n",
              "        text-align: right;\n",
              "    }\n",
              "</style>\n",
              "<table border=\"1\" class=\"dataframe\">\n",
              "  <thead>\n",
              "    <tr style=\"text-align: right;\">\n",
              "      <th></th>\n",
              "      <th>Incumplimiento</th>\n",
              "      <th>TasaUtilizacionLineasRotativas</th>\n",
              "      <th>Edad</th>\n",
              "      <th>Mora30a59dias</th>\n",
              "      <th>RazonDeudaMensual</th>\n",
              "      <th>IngresoMensual</th>\n",
              "      <th>CantidadCreditosActivos</th>\n",
              "      <th>MoraMayorA90</th>\n",
              "      <th>CantidadCreditosDeVivienda</th>\n",
              "      <th>Mora60a89dias</th>\n",
              "      <th>CantidadDependientes</th>\n",
              "      <th>OcurrenciasMora</th>\n",
              "    </tr>\n",
              "  </thead>\n",
              "  <tbody>\n",
              "    <tr>\n",
              "      <th>0</th>\n",
              "      <td>1</td>\n",
              "      <td>0.766127</td>\n",
              "      <td>0.272727</td>\n",
              "      <td>0.153846</td>\n",
              "      <td>0.000201</td>\n",
              "      <td>0.45600</td>\n",
              "      <td>0.228070</td>\n",
              "      <td>0.000000</td>\n",
              "      <td>0.30</td>\n",
              "      <td>0.0</td>\n",
              "      <td>0.50</td>\n",
              "      <td>0.105263</td>\n",
              "    </tr>\n",
              "    <tr>\n",
              "      <th>1</th>\n",
              "      <td>0</td>\n",
              "      <td>0.957151</td>\n",
              "      <td>0.215909</td>\n",
              "      <td>0.000000</td>\n",
              "      <td>0.000030</td>\n",
              "      <td>0.13000</td>\n",
              "      <td>0.070175</td>\n",
              "      <td>0.000000</td>\n",
              "      <td>0.00</td>\n",
              "      <td>0.0</td>\n",
              "      <td>0.25</td>\n",
              "      <td>0.000000</td>\n",
              "    </tr>\n",
              "    <tr>\n",
              "      <th>2</th>\n",
              "      <td>0</td>\n",
              "      <td>0.658180</td>\n",
              "      <td>0.193182</td>\n",
              "      <td>0.076923</td>\n",
              "      <td>0.000021</td>\n",
              "      <td>0.15210</td>\n",
              "      <td>0.035088</td>\n",
              "      <td>0.058824</td>\n",
              "      <td>0.00</td>\n",
              "      <td>0.0</td>\n",
              "      <td>0.00</td>\n",
              "      <td>0.105263</td>\n",
              "    </tr>\n",
              "    <tr>\n",
              "      <th>3</th>\n",
              "      <td>0</td>\n",
              "      <td>0.233810</td>\n",
              "      <td>0.102273</td>\n",
              "      <td>0.000000</td>\n",
              "      <td>0.000009</td>\n",
              "      <td>0.16500</td>\n",
              "      <td>0.087719</td>\n",
              "      <td>0.000000</td>\n",
              "      <td>0.00</td>\n",
              "      <td>0.0</td>\n",
              "      <td>0.00</td>\n",
              "      <td>0.000000</td>\n",
              "    </tr>\n",
              "    <tr>\n",
              "      <th>4</th>\n",
              "      <td>0</td>\n",
              "      <td>0.213179</td>\n",
              "      <td>0.602273</td>\n",
              "      <td>0.000000</td>\n",
              "      <td>0.000094</td>\n",
              "      <td>0.17500</td>\n",
              "      <td>0.052632</td>\n",
              "      <td>0.000000</td>\n",
              "      <td>0.05</td>\n",
              "      <td>0.0</td>\n",
              "      <td>0.25</td>\n",
              "      <td>0.000000</td>\n",
              "    </tr>\n",
              "    <tr>\n",
              "      <th>5</th>\n",
              "      <td>0</td>\n",
              "      <td>0.754464</td>\n",
              "      <td>0.204545</td>\n",
              "      <td>0.000000</td>\n",
              "      <td>0.000052</td>\n",
              "      <td>0.17500</td>\n",
              "      <td>0.140351</td>\n",
              "      <td>0.000000</td>\n",
              "      <td>0.00</td>\n",
              "      <td>0.0</td>\n",
              "      <td>0.00</td>\n",
              "      <td>0.000000</td>\n",
              "    </tr>\n",
              "    <tr>\n",
              "      <th>6</th>\n",
              "      <td>0</td>\n",
              "      <td>0.116951</td>\n",
              "      <td>0.068182</td>\n",
              "      <td>0.000000</td>\n",
              "      <td>0.011500</td>\n",
              "      <td>0.27080</td>\n",
              "      <td>0.035088</td>\n",
              "      <td>0.000000</td>\n",
              "      <td>0.00</td>\n",
              "      <td>0.0</td>\n",
              "      <td>0.00</td>\n",
              "      <td>0.000000</td>\n",
              "    </tr>\n",
              "    <tr>\n",
              "      <th>7</th>\n",
              "      <td>0</td>\n",
              "      <td>0.644226</td>\n",
              "      <td>0.102273</td>\n",
              "      <td>0.000000</td>\n",
              "      <td>0.000077</td>\n",
              "      <td>0.12500</td>\n",
              "      <td>0.087719</td>\n",
              "      <td>0.000000</td>\n",
              "      <td>0.00</td>\n",
              "      <td>0.0</td>\n",
              "      <td>0.00</td>\n",
              "      <td>0.000000</td>\n",
              "    </tr>\n",
              "    <tr>\n",
              "      <th>8</th>\n",
              "      <td>0</td>\n",
              "      <td>0.018798</td>\n",
              "      <td>0.340909</td>\n",
              "      <td>0.000000</td>\n",
              "      <td>0.000133</td>\n",
              "      <td>0.32505</td>\n",
              "      <td>0.122807</td>\n",
              "      <td>0.000000</td>\n",
              "      <td>0.10</td>\n",
              "      <td>0.0</td>\n",
              "      <td>0.50</td>\n",
              "      <td>0.000000</td>\n",
              "    </tr>\n",
              "    <tr>\n",
              "      <th>9</th>\n",
              "      <td>0</td>\n",
              "      <td>0.010352</td>\n",
              "      <td>0.284091</td>\n",
              "      <td>0.000000</td>\n",
              "      <td>0.000075</td>\n",
              "      <td>0.62270</td>\n",
              "      <td>0.228070</td>\n",
              "      <td>0.000000</td>\n",
              "      <td>0.10</td>\n",
              "      <td>0.0</td>\n",
              "      <td>0.50</td>\n",
              "      <td>0.000000</td>\n",
              "    </tr>\n",
              "  </tbody>\n",
              "</table>\n",
              "</div>"
            ],
            "text/plain": [
              "   Incumplimiento  TasaUtilizacionLineasRotativas      Edad  Mora30a59dias  \\\n",
              "0               1                        0.766127  0.272727       0.153846   \n",
              "1               0                        0.957151  0.215909       0.000000   \n",
              "2               0                        0.658180  0.193182       0.076923   \n",
              "3               0                        0.233810  0.102273       0.000000   \n",
              "4               0                        0.213179  0.602273       0.000000   \n",
              "5               0                        0.754464  0.204545       0.000000   \n",
              "6               0                        0.116951  0.068182       0.000000   \n",
              "7               0                        0.644226  0.102273       0.000000   \n",
              "8               0                        0.018798  0.340909       0.000000   \n",
              "9               0                        0.010352  0.284091       0.000000   \n",
              "\n",
              "   RazonDeudaMensual  IngresoMensual  CantidadCreditosActivos  MoraMayorA90  \\\n",
              "0           0.000201         0.45600                 0.228070      0.000000   \n",
              "1           0.000030         0.13000                 0.070175      0.000000   \n",
              "2           0.000021         0.15210                 0.035088      0.058824   \n",
              "3           0.000009         0.16500                 0.087719      0.000000   \n",
              "4           0.000094         0.17500                 0.052632      0.000000   \n",
              "5           0.000052         0.17500                 0.140351      0.000000   \n",
              "6           0.011500         0.27080                 0.035088      0.000000   \n",
              "7           0.000077         0.12500                 0.087719      0.000000   \n",
              "8           0.000133         0.32505                 0.122807      0.000000   \n",
              "9           0.000075         0.62270                 0.228070      0.000000   \n",
              "\n",
              "   CantidadCreditosDeVivienda  Mora60a89dias  CantidadDependientes  \\\n",
              "0                        0.30            0.0                  0.50   \n",
              "1                        0.00            0.0                  0.25   \n",
              "2                        0.00            0.0                  0.00   \n",
              "3                        0.00            0.0                  0.00   \n",
              "4                        0.05            0.0                  0.25   \n",
              "5                        0.00            0.0                  0.00   \n",
              "6                        0.00            0.0                  0.00   \n",
              "7                        0.00            0.0                  0.00   \n",
              "8                        0.10            0.0                  0.50   \n",
              "9                        0.10            0.0                  0.50   \n",
              "\n",
              "   OcurrenciasMora  \n",
              "0         0.105263  \n",
              "1         0.000000  \n",
              "2         0.105263  \n",
              "3         0.000000  \n",
              "4         0.000000  \n",
              "5         0.000000  \n",
              "6         0.000000  \n",
              "7         0.000000  \n",
              "8         0.000000  \n",
              "9         0.000000  "
            ]
          },
          "execution_count": 19,
          "metadata": {},
          "output_type": "execute_result"
        }
      ],
      "source": [
        "#Se crea un dataframe d con los datos obtenidos de archivo de entrada\n",
        "d=pd.read_csv('data/Preprocessed.csv')\n",
        "d.head(10)"
      ]
    },
    {
      "cell_type": "code",
      "execution_count": 20,
      "metadata": {
        "colab": {
          "base_uri": "https://localhost:8080/",
          "height": 320
        },
        "id": "KsVvNoAdhoxM",
        "outputId": "dc571e44-f0d2-4040-dbc8-09739874fce3"
      },
      "outputs": [
        {
          "data": {
            "text/html": [
              "<div>\n",
              "<style scoped>\n",
              "    .dataframe tbody tr th:only-of-type {\n",
              "        vertical-align: middle;\n",
              "    }\n",
              "\n",
              "    .dataframe tbody tr th {\n",
              "        vertical-align: top;\n",
              "    }\n",
              "\n",
              "    .dataframe thead th {\n",
              "        text-align: right;\n",
              "    }\n",
              "</style>\n",
              "<table border=\"1\" class=\"dataframe\">\n",
              "  <thead>\n",
              "    <tr style=\"text-align: right;\">\n",
              "      <th></th>\n",
              "      <th>Incumplimiento</th>\n",
              "      <th>TasaUtilizacionLineasRotativas</th>\n",
              "      <th>Edad</th>\n",
              "      <th>Mora30a59dias</th>\n",
              "      <th>RazonDeudaMensual</th>\n",
              "      <th>IngresoMensual</th>\n",
              "      <th>CantidadCreditosActivos</th>\n",
              "      <th>MoraMayorA90</th>\n",
              "      <th>CantidadCreditosDeVivienda</th>\n",
              "      <th>Mora60a89dias</th>\n",
              "      <th>CantidadDependientes</th>\n",
              "      <th>OcurrenciasMora</th>\n",
              "    </tr>\n",
              "  </thead>\n",
              "  <tbody>\n",
              "    <tr>\n",
              "      <th>count</th>\n",
              "      <td>140742.000000</td>\n",
              "      <td>140742.000000</td>\n",
              "      <td>140742.000000</td>\n",
              "      <td>140742.000000</td>\n",
              "      <td>140742.000000</td>\n",
              "      <td>140742.000000</td>\n",
              "      <td>140742.000000</td>\n",
              "      <td>140742.000000</td>\n",
              "      <td>140742.000000</td>\n",
              "      <td>140742.000000</td>\n",
              "      <td>140742.000000</td>\n",
              "      <td>140742.000000</td>\n",
              "    </tr>\n",
              "    <tr>\n",
              "      <th>mean</th>\n",
              "      <td>0.058867</td>\n",
              "      <td>0.301405</td>\n",
              "      <td>0.358040</td>\n",
              "      <td>0.017372</td>\n",
              "      <td>0.060150</td>\n",
              "      <td>0.297039</td>\n",
              "      <td>0.147343</td>\n",
              "      <td>0.004643</td>\n",
              "      <td>0.049041</td>\n",
              "      <td>0.005151</td>\n",
              "      <td>0.174893</td>\n",
              "      <td>0.019023</td>\n",
              "    </tr>\n",
              "    <tr>\n",
              "      <th>std</th>\n",
              "      <td>0.235376</td>\n",
              "      <td>0.337377</td>\n",
              "      <td>0.169160</td>\n",
              "      <td>0.050873</td>\n",
              "      <td>0.172924</td>\n",
              "      <td>0.167179</td>\n",
              "      <td>0.089137</td>\n",
              "      <td>0.026077</td>\n",
              "      <td>0.052463</td>\n",
              "      <td>0.027586</td>\n",
              "      <td>0.258636</td>\n",
              "      <td>0.053508</td>\n",
              "    </tr>\n",
              "    <tr>\n",
              "      <th>min</th>\n",
              "      <td>0.000000</td>\n",
              "      <td>0.000000</td>\n",
              "      <td>0.000000</td>\n",
              "      <td>0.000000</td>\n",
              "      <td>0.000000</td>\n",
              "      <td>0.000000</td>\n",
              "      <td>0.000000</td>\n",
              "      <td>0.000000</td>\n",
              "      <td>0.000000</td>\n",
              "      <td>0.000000</td>\n",
              "      <td>0.000000</td>\n",
              "      <td>0.000000</td>\n",
              "    </tr>\n",
              "    <tr>\n",
              "      <th>25%</th>\n",
              "      <td>0.000000</td>\n",
              "      <td>0.027972</td>\n",
              "      <td>0.227273</td>\n",
              "      <td>0.000000</td>\n",
              "      <td>0.000044</td>\n",
              "      <td>0.192500</td>\n",
              "      <td>0.087719</td>\n",
              "      <td>0.000000</td>\n",
              "      <td>0.000000</td>\n",
              "      <td>0.000000</td>\n",
              "      <td>0.000000</td>\n",
              "      <td>0.000000</td>\n",
              "    </tr>\n",
              "    <tr>\n",
              "      <th>50%</th>\n",
              "      <td>0.000000</td>\n",
              "      <td>0.141092</td>\n",
              "      <td>0.352273</td>\n",
              "      <td>0.000000</td>\n",
              "      <td>0.000091</td>\n",
              "      <td>0.270800</td>\n",
              "      <td>0.140351</td>\n",
              "      <td>0.000000</td>\n",
              "      <td>0.050000</td>\n",
              "      <td>0.000000</td>\n",
              "      <td>0.000000</td>\n",
              "      <td>0.000000</td>\n",
              "    </tr>\n",
              "    <tr>\n",
              "      <th>75%</th>\n",
              "      <td>0.000000</td>\n",
              "      <td>0.514463</td>\n",
              "      <td>0.477273</td>\n",
              "      <td>0.000000</td>\n",
              "      <td>0.000202</td>\n",
              "      <td>0.364537</td>\n",
              "      <td>0.192982</td>\n",
              "      <td>0.000000</td>\n",
              "      <td>0.100000</td>\n",
              "      <td>0.000000</td>\n",
              "      <td>0.250000</td>\n",
              "      <td>0.000000</td>\n",
              "    </tr>\n",
              "    <tr>\n",
              "      <th>max</th>\n",
              "      <td>1.000000</td>\n",
              "      <td>1.000000</td>\n",
              "      <td>1.000000</td>\n",
              "      <td>1.000000</td>\n",
              "      <td>1.000000</td>\n",
              "      <td>1.000000</td>\n",
              "      <td>1.000000</td>\n",
              "      <td>1.000000</td>\n",
              "      <td>1.000000</td>\n",
              "      <td>1.000000</td>\n",
              "      <td>1.000000</td>\n",
              "      <td>1.000000</td>\n",
              "    </tr>\n",
              "  </tbody>\n",
              "</table>\n",
              "</div>"
            ],
            "text/plain": [
              "       Incumplimiento  TasaUtilizacionLineasRotativas           Edad  \\\n",
              "count   140742.000000                   140742.000000  140742.000000   \n",
              "mean         0.058867                        0.301405       0.358040   \n",
              "std          0.235376                        0.337377       0.169160   \n",
              "min          0.000000                        0.000000       0.000000   \n",
              "25%          0.000000                        0.027972       0.227273   \n",
              "50%          0.000000                        0.141092       0.352273   \n",
              "75%          0.000000                        0.514463       0.477273   \n",
              "max          1.000000                        1.000000       1.000000   \n",
              "\n",
              "       Mora30a59dias  RazonDeudaMensual  IngresoMensual  \\\n",
              "count  140742.000000      140742.000000   140742.000000   \n",
              "mean        0.017372           0.060150        0.297039   \n",
              "std         0.050873           0.172924        0.167179   \n",
              "min         0.000000           0.000000        0.000000   \n",
              "25%         0.000000           0.000044        0.192500   \n",
              "50%         0.000000           0.000091        0.270800   \n",
              "75%         0.000000           0.000202        0.364537   \n",
              "max         1.000000           1.000000        1.000000   \n",
              "\n",
              "       CantidadCreditosActivos   MoraMayorA90  CantidadCreditosDeVivienda  \\\n",
              "count            140742.000000  140742.000000               140742.000000   \n",
              "mean                  0.147343       0.004643                    0.049041   \n",
              "std                   0.089137       0.026077                    0.052463   \n",
              "min                   0.000000       0.000000                    0.000000   \n",
              "25%                   0.087719       0.000000                    0.000000   \n",
              "50%                   0.140351       0.000000                    0.050000   \n",
              "75%                   0.192982       0.000000                    0.100000   \n",
              "max                   1.000000       1.000000                    1.000000   \n",
              "\n",
              "       Mora60a89dias  CantidadDependientes  OcurrenciasMora  \n",
              "count  140742.000000         140742.000000    140742.000000  \n",
              "mean        0.005151              0.174893         0.019023  \n",
              "std         0.027586              0.258636         0.053508  \n",
              "min         0.000000              0.000000         0.000000  \n",
              "25%         0.000000              0.000000         0.000000  \n",
              "50%         0.000000              0.000000         0.000000  \n",
              "75%         0.000000              0.250000         0.000000  \n",
              "max         1.000000              1.000000         1.000000  "
            ]
          },
          "execution_count": 20,
          "metadata": {},
          "output_type": "execute_result"
        }
      ],
      "source": [
        "d.describe()"
      ]
    },
    {
      "cell_type": "code",
      "execution_count": 21,
      "metadata": {
        "id": "26FWaG7ViIkF"
      },
      "outputs": [],
      "source": [
        "#dividiendo el df en entradas y salidas\n",
        "X = d.drop(columns=['Incumplimiento'])\n",
        "y = d['Incumplimiento']"
      ]
    },
    {
      "cell_type": "code",
      "execution_count": 96,
      "metadata": {
        "id": "_-gH5luaiXLP"
      },
      "outputs": [
        {
          "name": "stdout",
          "output_type": "stream",
          "text": [
            "Tamaño del dataset de entrenamiento:  (98519, 11)\n",
            "Tamaño del dataset de evaluación:  (42223, 11)\n",
            "Tamaño del dataset de entrenamiento:  (98519,)\n",
            "Tamaño del dataset de evaluación:  (42223,)\n"
          ]
        }
      ],
      "source": [
        "# Se hace la separación del dataset para entrenamiento y evaluación.\n",
        "# 30% sería para evaluación y 70% para entrenamiento\n",
        "X_train, X_test, y_train, y_test = train_test_split(\n",
        "    X,\n",
        "    y.values.reshape(-1,1),\n",
        "    train_size = 0.7,\n",
        "    random_state=282,\n",
        "    shuffle=True\n",
        ")\n",
        "y_train = y_train.ravel()\n",
        "y_test = y_test.ravel()\n",
        "print('Tamaño del dataset de entrenamiento: ', X_train.shape)\n",
        "print('Tamaño del dataset de evaluación: ', X_test.shape)\n",
        "print('Tamaño del dataset de entrenamiento: ', y_train.shape)\n",
        "print('Tamaño del dataset de evaluación: ', y_test.shape)"
      ]
    },
    {
      "cell_type": "markdown",
      "metadata": {},
      "source": [
        "# Desbalance de clases"
      ]
    },
    {
      "cell_type": "code",
      "execution_count": 97,
      "metadata": {},
      "outputs": [
        {
          "name": "stdout",
          "output_type": "stream",
          "text": [
            "Porcentaje de Incumplimiento en el dataset original:  5.89 %\n",
            "Porcentaje de Incumplimiento en el dataset de entrenamiento:  5.84 %\n",
            "Porcentaje de Incumplimiento en el dataset de evaluación:  6.0 %\n"
          ]
        }
      ],
      "source": [
        "# analyze class imbalance\n",
        "print('Porcentaje de Incumplimiento en el dataset original: ', round(d['Incumplimiento'].value_counts()[1]/len(d) * 100,2), '%')\n",
        "print('Porcentaje de Incumplimiento en el dataset de entrenamiento: ', round(pd.DataFrame(y_train)[0].value_counts()[1]/len(y_train) * 100,2), '%')\n",
        "print('Porcentaje de Incumplimiento en el dataset de evaluación: ', round(pd.DataFrame(y_test)[0].value_counts()[1]/len(y_test) * 100,2), '%')"
      ]
    },
    {
      "cell_type": "code",
      "execution_count": 98,
      "metadata": {},
      "outputs": [
        {
          "data": {
            "image/png": "[encoded data removed]",
            "text/plain": [
              "<Figure size 600x400 with 1 Axes>"
            ]
          },
          "metadata": {},
          "output_type": "display_data"
        }
      ],
      "source": [
        "# plot the imbalance\n",
        "fig, ax = plt.subplots(figsize=(6, 4))\n",
        "sns.countplot(x='Incumplimiento', data=d, ax=ax)\n",
        "ax.set_title('Class Distribution Before Resampling')\n",
        "ax.set_xlabel('Incumplimiento')\n",
        "ax.set_ylabel('Count')\n",
        "plt.show()"
      ]
    },
    {
      "cell_type": "markdown",
      "metadata": {},
      "source": [
        "Se cuenta con un desbalance importante teniendo una clase minoritaria de 6% y una clase mayoritaria del 94% sobre el total de los datos. Para esto es necesario aplicar tecnicas de balanceo de clases para que los resultados de los modelos seán optimos. "
      ]
    },
    {
      "cell_type": "markdown",
      "metadata": {},
      "source": [
        "## SMOTE y RandomUnderSampler\n",
        "Aplicamos inicialmente un sobremuestreo en la clase minoritaria equivalente al 10% del total de observaciones de la clase mayoritaria. Luego, basado en las recomendaciones del paper original que propone SMOTE, aplicamos un submuestreo en la clase mayoritaria equivalente al 50% del total de observaciones de la clase minoritaria. De esta manera la relación entre clases queda en 2:1. Esta operación solo se realiza en el conjunto de entrenamiento."
      ]
    },
    {
      "cell_type": "code",
      "execution_count": 99,
      "metadata": {},
      "outputs": [
        {
          "name": "stdout",
          "output_type": "stream",
          "text": [
            "Counter({0: 92769, 1: 9276})\n"
          ]
        }
      ],
      "source": [
        "oversample = SMOTE(sampling_strategy=0.1)\n",
        "X_train, y_train = oversample.fit_resample(X_train, pd.DataFrame(y_train)[0])\n",
        "\n",
        "# analyze class imbalance\n",
        "print(Counter(y_train))"
      ]
    },
    {
      "cell_type": "code",
      "execution_count": 100,
      "metadata": {},
      "outputs": [
        {
          "name": "stdout",
          "output_type": "stream",
          "text": [
            "Counter({0: 18552, 1: 9276})\n"
          ]
        }
      ],
      "source": [
        "# define undersample strategy\n",
        "undersample = RandomUnderSampler(sampling_strategy=0.5)\n",
        "# fit and apply the transform\n",
        "X_train, y_train = undersample.fit_resample(X_train, pd.DataFrame(y_train)[0])\n",
        "# summarize class distribution\n",
        "print(Counter(y_train))\n"
      ]
    },
    {
      "cell_type": "code",
      "execution_count": 84,
      "metadata": {},
      "outputs": [
        {
          "name": "stdout",
          "output_type": "stream",
          "text": [
            "Counter({0: 18552, 1: 9276})\n"
          ]
        }
      ],
      "source": [
        "# model to test the class balance effect\n",
        "modelXGB = XGBClassifier( n_estimators = 150, learning_rate=0.05, max_depth = 5) \\\n",
        "                .fit(X_train, y_train)\n",
        "\n",
        "\n",
        "# make predictions for test data\n",
        "y_pred = modelXGB.predict(X_test)\n",
        "predictions = [round(value) for value in y_pred]\n",
        "\n",
        "# evaluate predictions\n",
        "accuracy = accuracy_score(y_test, predictions)\n",
        "precision = precision_score(y_test, predictions)\n",
        "recall = recall_score(y_test, predictions)\n",
        "f1 = f1_score(y_test, predictions)\n",
        "\n",
        "print(\"Accuracy: %.2f%%\" % (accuracy * 100.0))\n",
        "print(\"Precision: %.2f%%\" % (precision * 100.0))\n",
        "print(\"Recall: %.2f%%\" % (recall * 100.0))\n",
        "print(\"F1: %.2f%%\" % (f1 * 100.0))\n",
        "\n",
        "\n",
        "# predict probabilities\n",
        "probs = modelXGB.predict_proba(X_test)\n",
        "# keep probabilities for the positive outcome only\n",
        "probs = probs[:, 1]\n",
        "# calculate AUC\n",
        "auc_score = roc_auc_score(y_test, probs)\n",
        "print('AUC: %.3f' % auc_score)\n",
        "\n",
        "# plot roc curve\n",
        "fpr, tpr, thresholds = roc_curve(y_test, probs)\n",
        "plt.plot([0, 1], [0, 1], linestyle='--')\n",
        "plt.plot(fpr, tpr, marker='.')\n",
        "plt.title('Curva ROC para el modelo de Regresión Logística')\n",
        "plt.xlabel('False Positive Rate')\n",
        "plt.ylabel('True Positive Rate')\n",
        "plt.show()"
      ]
    },
    {
      "cell_type": "markdown",
      "metadata": {},
      "source": [
        "Haciendo una prueba con el modelo de XGBoost se encuentra que con el balanceo de clases se obtiene un mejor recall del ~56% y f1 de ~39% en el conjunto de validación, a la vez que se mantiene un accuracy de ~89% y AUC de 85.7%. Esto puede indicar que aunque se disminuyo la cantidad de observaciones, no se afectaron los resultados de la clasificación, contrario a ello, mejoraron algunas métricas importantes para el problema."
      ]
    },
    {
      "cell_type": "markdown",
      "metadata": {},
      "source": [
        "# Linea Base\n",
        "Primero iniciamos con un clasificador dummy que predice sin tener en cuenta las variables de entradas. En este caso predice que todas las salidas son 0, lo que significa que todas las personas pagan sus créditos. Este clasificador nos sirve como base para comparar los resultados de los otros clasificadores."
      ]
    },
    {
      "cell_type": "code",
      "execution_count": 72,
      "metadata": {
        "colab": {
          "base_uri": "https://localhost:8080/"
        },
        "id": "LNybiZCaLQdq",
        "outputId": "1a1fc32e-7fb6-42fd-b491-8ec32a2aba1a"
      },
      "outputs": [
        {
          "data": {
            "text/plain": [
              "0.5503872297089264"
            ]
          },
          "execution_count": 72,
          "metadata": {},
          "output_type": "execute_result"
        }
      ],
      "source": [
        "# implement naive model to check the accuracy\n",
        "modelDummy = DummyClassifier(strategy=\"stratified\")\n",
        "modelDummy.fit(X_train, y_train)\n",
        "modelDummy.score(X_test, y_test)"
      ]
    },
    {
      "cell_type": "code",
      "execution_count": 73,
      "metadata": {},
      "outputs": [
        {
          "name": "stdout",
          "output_type": "stream",
          "text": [
            "Train score: 0.7650328206602462\n",
            "Test score: 0.8234848305425952\n"
          ]
        }
      ],
      "source": [
        "modelLR = LogisticRegression( random_state=42, max_iter=1000 )\n",
        "modelLR.fit(X_train, y_train)\n",
        "\n",
        "# score of the model\n",
        "print(f\"Train score: {modelLR.score(X_train, y_train)}\")\n",
        "print(f\"Test score: {modelLR.score(X_test, y_test)}\")\n"
      ]
    },
    {
      "cell_type": "code",
      "execution_count": 74,
      "metadata": {},
      "outputs": [
        {
          "name": "stdout",
          "output_type": "stream",
          "text": [
            "Accuracy: 82.35%\n",
            "Precision: 20.76%\n",
            "Recall: 68.88%\n",
            "F1: 31.90%\n"
          ]
        }
      ],
      "source": [
        "# calculate metrics\n",
        "y_pred = modelLR.predict(X_test)\n",
        "accuracy = accuracy_score(y_test, y_pred)\n",
        "precision = precision_score(y_test, y_pred)\n",
        "recall = recall_score(y_test, y_pred)\n",
        "f1 = f1_score(y_test, y_pred)\n",
        "\n",
        "print(\"Accuracy: %.2f%%\" % (accuracy * 100.0))\n",
        "print(\"Precision: %.2f%%\" % (precision * 100.0))\n",
        "print(\"Recall: %.2f%%\" % (recall * 100.0))\n",
        "print(\"F1: %.2f%%\" % (f1 * 100.0))"
      ]
    },
    {
      "cell_type": "code",
      "execution_count": 53,
      "metadata": {},
      "outputs": [
        {
          "data": {
            "image/png": "[encoded data removed]",
            "text/plain": [
              "<Figure size 640x480 with 1 Axes>"
            ]
          },
          "metadata": {},
          "output_type": "display_data"
        }
      ],
      "source": [
        "#show roc curve for model dummy and logistic regression in same plot\n",
        "y_pred_proba = modelLR.predict_proba(X_test)[::,1]\n",
        "\n",
        "fpr, tpr, th = roc_curve(y_test,  y_pred_proba, pos_label=1)\n",
        "auc_metric = auc(fpr, tpr)\n",
        "\n",
        "plt.plot(fpr, tpr,label=\"auc modelLR=\"+str(auc_metric))\n",
        "\n",
        "y_pred_proba = modelDummy.predict_proba(X_test)[::,1]\n",
        "fpr, tpr, th = roc_curve(y_test,  y_pred_proba, pos_label=1)\n",
        "auc_metric = auc(fpr, tpr)\n",
        "\n",
        "plt.plot(fpr, tpr,label=\"auc dummy=\"+str(auc_metric))\n",
        "\n",
        "plt.legend(loc=4)\n",
        "plt.title('Curva ROC para modelos de linea base')\n",
        "plt.show()\n"
      ]
    },
    {
      "cell_type": "markdown",
      "metadata": {},
      "source": [
        "# Selección de Modelo\n",
        "Se realiza la implementación de diferentes modelos con el fin de evaluar cuál tiene mejores resultados para la predicción. Para esto se tiene en cuenta la metrica curva roc-auc, f1-score, precission y accuracy. \n"
      ]
    },
    {
      "cell_type": "code",
      "execution_count": 16,
      "metadata": {
        "colab": {
          "base_uri": "https://localhost:8080/"
        },
        "id": "7ZoBQMJDizwL",
        "outputId": "597a9561-0af0-499a-8782-f92267a38c4f"
      },
      "outputs": [
        {
          "name": "stderr",
          "output_type": "stream",
          "text": [
            "c:\\Users\\fede_\\anaconda3\\envs\\py310\\lib\\site-packages\\sklearn\\ensemble\\_forest.py:424: FutureWarning: `max_features='auto'` has been deprecated in 1.1 and will be removed in 1.3. To keep the past behaviour, explicitly set `max_features='sqrt'` or remove this parameter as it is also the default value for RandomForestClassifiers and ExtraTreesClassifiers.\n",
            "  warn(\n",
            "c:\\Users\\fede_\\anaconda3\\envs\\py310\\lib\\site-packages\\sklearn\\neural_network\\_multilayer_perceptron.py:541: ConvergenceWarning: lbfgs failed to converge (status=1):\n",
            "STOP: TOTAL NO. of ITERATIONS REACHED LIMIT.\n",
            "\n",
            "Increase the number of iterations (max_iter) or scale the data as shown in:\n",
            "    https://scikit-learn.org/stable/modules/preprocessing.html\n",
            "  self.n_iter_ = _check_optimize_result(\"lbfgs\", opt_res, self.max_iter)\n"
          ]
        }
      ],
      "source": [
        "# Entrenamiento de multiples modelos\n",
        "\n",
        "# Maquinas de soporte vectorial\n",
        "modelSVC       = svm.SVC(kernel='linear', probability = True).fit(X_train, y_train)\n",
        "# Clasificador de K Neighbors\n",
        "modelknn       = neighbors.KNeighborsClassifier(n_neighbors = 31).fit(X_train, y_train)\n",
        "# Complemento del Naive Bayes\n",
        "modelComplNB   = ComplementNB().fit(X_train, y_train)\n",
        "# Arboles de decision\n",
        "modelTreeClas  = tree.DecisionTreeClassifier(random_state=0).fit(X_train, y_train)\n",
        "# Gradient Boosting\n",
        "modelGD = GradientBoostingClassifier(n_estimators=150, learning_rate=0.05,\n",
        "                                     max_depth=5, random_state=231) \\\n",
        "                                     .fit(X_train, y_train)\n",
        "# Random forest\n",
        "modelRanForest = RandomForestClassifier(n_estimators=100, max_depth=5, max_features = 'auto', criterion = 'gini', random_state=0).fit(X_train, y_train)\n",
        "# Redes neuronales - Prospectos\n",
        "ModelNN        = MLPClassifier(solver='lbfgs', alpha=1e-5, hidden_layer_sizes=(15, 2), random_state=0).fit(X_train, y_train)\n",
        "# ModelXGB\n",
        "modelXGB = XGBClassifier( n_estimators = 150, learning_rate=0.05, max_depth = 5) \\\n",
        "                .fit(X_train, y_train)"
      ]
    },
    {
      "cell_type": "code",
      "execution_count": 42,
      "metadata": {
        "colab": {
          "base_uri": "https://localhost:8080/",
          "height": 452
        },
        "id": "e98IX8H9j4Pb",
        "outputId": "0f8158a4-6fa4-4da2-caec-a143bacaa040"
      },
      "outputs": [
        {
          "data": {
            "image/png": "[encoded data removed]",
            "text/plain": [
              "<Figure size 640x480 with 1 Axes>"
            ]
          },
          "metadata": {},
          "output_type": "display_data"
        }
      ],
      "source": [
        "models = [\n",
        "    ('modelGD', modelGD),\n",
        "    ('modelXGB', modelXGB),\n",
        "    ('modelRanForest', modelRanForest),\n",
        "    ('modelLR', modelLR),\n",
        "    ('modelSVC', modelSVC)\n",
        "]\n",
        "\n",
        "for name, model in models:\n",
        "    # aqui se hace la curva roc con X_train\n",
        "    y_pred_proba = model.predict_proba(X_test)[::,1]\n",
        "    fpr, tpr, th = roc_curve(y_test,  y_pred_proba, pos_label=1)\n",
        "    auc_metric = auc(fpr, tpr)\n",
        "\n",
        "    plt.plot(fpr, tpr,label=name+'= '+str(auc_metric))\n",
        "    plt.legend(loc=4)\n",
        "\n",
        "plt.title('Receiver Operating Characteristic (ROC) Curve')  # Título del gráfico\n",
        "plt.legend()  # Mostrar la leyenda de los modelos\n",
        "plt.show()  # Mostrar el gráfico"
      ]
    },
    {
      "cell_type": "markdown",
      "metadata": {},
      "source": [
        "En este primer análisis de los modelos de clasificación se encuentra que XGBoost y Gradient Boosting son los que obtienen mejores resultados en la curva ROC-AUC. Para validar que en este primer entrenamiento no se este generando algun sobreajuste en los resultados, se realiza una validación cruzada con 10 folds y 3 repeticiones. Esto quiere decir que en total se corren 30 iteración para cada uno de los clasificadores."
      ]
    },
    {
      "cell_type": "markdown",
      "metadata": {},
      "source": [
        "## Validación cruzada"
      ]
    },
    {
      "cell_type": "code",
      "execution_count": 54,
      "metadata": {},
      "outputs": [
        {
          "data": {
            "text/html": [
              "<div>\n",
              "<style scoped>\n",
              "    .dataframe tbody tr th:only-of-type {\n",
              "        vertical-align: middle;\n",
              "    }\n",
              "\n",
              "    .dataframe tbody tr th {\n",
              "        vertical-align: top;\n",
              "    }\n",
              "\n",
              "    .dataframe thead th {\n",
              "        text-align: right;\n",
              "    }\n",
              "</style>\n",
              "<table border=\"1\" class=\"dataframe\">\n",
              "  <thead>\n",
              "    <tr style=\"text-align: right;\">\n",
              "      <th></th>\n",
              "      <th>test_accuracy</th>\n",
              "      <th>test_precision</th>\n",
              "      <th>test_recall</th>\n",
              "      <th>test_f1</th>\n",
              "    </tr>\n",
              "    <tr>\n",
              "      <th>model_name</th>\n",
              "      <th></th>\n",
              "      <th></th>\n",
              "      <th></th>\n",
              "      <th></th>\n",
              "    </tr>\n",
              "  </thead>\n",
              "  <tbody>\n",
              "    <tr>\n",
              "      <th>modelGD</th>\n",
              "      <td>0.837550</td>\n",
              "      <td>0.805967</td>\n",
              "      <td>0.675360</td>\n",
              "      <td>0.734774</td>\n",
              "    </tr>\n",
              "    <tr>\n",
              "      <th>modelXGB</th>\n",
              "      <td>0.836388</td>\n",
              "      <td>0.807264</td>\n",
              "      <td>0.668999</td>\n",
              "      <td>0.731524</td>\n",
              "    </tr>\n",
              "    <tr>\n",
              "      <th>modelRanForest</th>\n",
              "      <td>0.805927</td>\n",
              "      <td>0.760937</td>\n",
              "      <td>0.609455</td>\n",
              "      <td>0.676656</td>\n",
              "    </tr>\n",
              "    <tr>\n",
              "      <th>modelLR</th>\n",
              "      <td>0.788307</td>\n",
              "      <td>0.748143</td>\n",
              "      <td>0.550593</td>\n",
              "      <td>0.634119</td>\n",
              "    </tr>\n",
              "    <tr>\n",
              "      <th>modelSVC</th>\n",
              "      <td>0.784342</td>\n",
              "      <td>0.805021</td>\n",
              "      <td>0.466002</td>\n",
              "      <td>0.590079</td>\n",
              "    </tr>\n",
              "  </tbody>\n",
              "</table>\n",
              "</div>"
            ],
            "text/plain": [
              "                test_accuracy  test_precision  test_recall   test_f1\n",
              "model_name                                                          \n",
              "modelGD              0.837550        0.805967     0.675360  0.734774\n",
              "modelXGB             0.836388        0.807264     0.668999  0.731524\n",
              "modelRanForest       0.805927        0.760937     0.609455  0.676656\n",
              "modelLR              0.788307        0.748143     0.550593  0.634119\n",
              "modelSVC             0.784342        0.805021     0.466002  0.590079"
            ]
          },
          "execution_count": 54,
          "metadata": {},
          "output_type": "execute_result"
        }
      ],
      "source": [
        "\n",
        "\n",
        "# define the evaluation procedure\n",
        "cv = RepeatedStratifiedKFold(n_splits=10, n_repeats=3, random_state=1)\n",
        "\n",
        "scoring = ['accuracy', 'precision', 'recall', 'f1', 'roc_auc']\n",
        "\n",
        "models = [\n",
        "    ('modelRanForest', modelRanForest),\n",
        "    ('modelSVC', modelSVC),\n",
        "    ('modelGD', modelGD),\n",
        "    ('modelXGB', modelXGB),\n",
        "    ('modelLR',modelLR)\n",
        "]\n",
        "\n",
        "cv_df = pd.DataFrame()\n",
        "\n",
        "for name, model in models:\n",
        "    # evaluate the model and collect the scores\n",
        "    scores = cross_validate(model, X_train, y_train, scoring=scoring, cv=cv, n_jobs=-1)\n",
        "    model_scores = pd.DataFrame(scores)\n",
        "    model_scores['model_name'] = name\n",
        "    cv_df = pd.concat([cv_df, model_scores], ignore_index=True)\n",
        "\n",
        "column_order = ['model_name', 'test_accuracy', 'test_precision', 'test_recall', 'test_f1']\n",
        "cv_df = cv_df.reindex(columns=column_order)\n",
        "\n",
        "# calculate mean by name in cv_df\n",
        "cv_df.groupby(['model_name']).mean().sort_values('test_f1', ascending=False)\n"
      ]
    },
    {
      "cell_type": "markdown",
      "metadata": {},
      "source": [
        "Los modelos XGBoost y GradientBoosting nuevamente destacan por unos buenos resultados en la métrica f1. Esta métrica corresponde a la media armonica entre la precisión y el recall."
      ]
    },
    {
      "cell_type": "code",
      "execution_count": 55,
      "metadata": {
        "colab": {
          "base_uri": "https://localhost:8080/",
          "height": 542
        },
        "id": "ukrQYZsjr9Gm",
        "outputId": "338609a7-368d-41b1-da18-93f92fcef06e"
      },
      "outputs": [
        {
          "data": {
            "image/png": "[encoded data removed]",
            "text/plain": [
              "<Figure size 1200x600 with 1 Axes>"
            ]
          },
          "metadata": {},
          "output_type": "display_data"
        }
      ],
      "source": [
        "# Gráfica de f1-score de los modelos\n",
        "\n",
        "fig = plt.figure(figsize=(12,6))\n",
        "\n",
        "sns.boxplot(x='model_name', y='test_f1', data=cv_df)\n",
        "sns.stripplot(x='model_name', y='test_f1', data=cv_df,\n",
        "              size=1, jitter=False, edgecolor=\"gray\", linewidth=3)\n",
        "plt.show()"
      ]
    },
    {
      "cell_type": "markdown",
      "metadata": {},
      "source": [
        "Se decide trabajar inicialmente con los modelos GradientBoosting y XGBoost. Se encuentran buenos resultados para estos modelos después de ejecutar la validación cruzada y el entrenamiento. Tuvimos en cuenta la métrica f1-score que da una estimación entre la precisión y la sensibilidad. También tuvimos muy presente la métrica de sensibilidad, teniendo en cuenta que los falsos negativos pueden ser muy riesgosos en el contexto del problemo. Esto debido a que predecir que una persona no va a presentar cuando realmente si puede tener riesgos de incumplimiento, podría afectar la cartera y generar perdidas en la entidad financiera."
      ]
    },
    {
      "cell_type": "markdown",
      "metadata": {},
      "source": [
        "# Implementación del modelo\n"
      ]
    },
    {
      "cell_type": "markdown",
      "metadata": {},
      "source": [
        "## Gradient Boosting"
      ]
    },
    {
      "cell_type": "code",
      "execution_count": 23,
      "metadata": {},
      "outputs": [
        {
          "name": "stdout",
          "output_type": "stream",
          "text": [
            "Best: 0.747348 using {'learning_rate': 0.1, 'max_depth': 5, 'n_estimators': 200}\n"
          ]
        }
      ],
      "source": [
        "# define the model with default hyperparameters\n",
        "model = GradientBoostingClassifier(random_state=231)\n",
        "\n",
        "# define the grid of values to search\n",
        "grid = dict()\n",
        "grid['n_estimators'] = [100, 150, 200]\n",
        "grid['learning_rate'] = [0.01, 0.05, 0.1]\n",
        "grid['max_depth'] = [3, 5, 7]\n",
        "\n",
        "# define the evaluation procedure\n",
        "cv = RepeatedStratifiedKFold(n_splits=10, n_repeats=3, random_state=1)\n",
        "\n",
        "# define the grid search procedure\n",
        "grid_search = GridSearchCV(estimator=model, param_grid=grid, n_jobs=-1, cv=cv, refit=\"f1\",\n",
        "                           scoring=['f1', 'recall', 'accuracy', 'roc_auc'], error_score=0)\n",
        "\n",
        "# execute the grid search\n",
        "grid_result = grid_search.fit(X_train, y_train)\n",
        "\n",
        "# summarize the best score and configuration\n",
        "print(\"Best: %f using %s\" % (grid_result.best_score_, grid_result.best_params_))\n"
      ]
    },
    {
      "cell_type": "code",
      "execution_count": 46,
      "metadata": {},
      "outputs": [
        {
          "data": {
            "text/html": [
              "<div>\n",
              "<style scoped>\n",
              "    .dataframe tbody tr th:only-of-type {\n",
              "        vertical-align: middle;\n",
              "    }\n",
              "\n",
              "    .dataframe tbody tr th {\n",
              "        vertical-align: top;\n",
              "    }\n",
              "\n",
              "    .dataframe thead th {\n",
              "        text-align: right;\n",
              "    }\n",
              "</style>\n",
              "<table border=\"1\" class=\"dataframe\">\n",
              "  <thead>\n",
              "    <tr style=\"text-align: right;\">\n",
              "      <th></th>\n",
              "      <th>mean_test_f1</th>\n",
              "      <th>mean_test_recall</th>\n",
              "      <th>mean_test_accuracy</th>\n",
              "      <th>mean_test_roc_auc</th>\n",
              "      <th>param_n_estimators</th>\n",
              "      <th>param_learning_rate</th>\n",
              "      <th>param_max_depth</th>\n",
              "    </tr>\n",
              "  </thead>\n",
              "  <tbody>\n",
              "    <tr>\n",
              "      <th>23</th>\n",
              "      <td>0.747348</td>\n",
              "      <td>0.691353</td>\n",
              "      <td>0.844222</td>\n",
              "      <td>0.899655</td>\n",
              "      <td>200</td>\n",
              "      <td>0.1</td>\n",
              "      <td>5</td>\n",
              "    </tr>\n",
              "    <tr>\n",
              "      <th>26</th>\n",
              "      <td>0.745391</td>\n",
              "      <td>0.694263</td>\n",
              "      <td>0.841910</td>\n",
              "      <td>0.898710</td>\n",
              "      <td>200</td>\n",
              "      <td>0.1</td>\n",
              "      <td>7</td>\n",
              "    </tr>\n",
              "    <tr>\n",
              "      <th>22</th>\n",
              "      <td>0.745186</td>\n",
              "      <td>0.688836</td>\n",
              "      <td>0.843012</td>\n",
              "      <td>0.898759</td>\n",
              "      <td>150</td>\n",
              "      <td>0.1</td>\n",
              "      <td>5</td>\n",
              "    </tr>\n",
              "    <tr>\n",
              "      <th>25</th>\n",
              "      <td>0.744998</td>\n",
              "      <td>0.692430</td>\n",
              "      <td>0.842006</td>\n",
              "      <td>0.898727</td>\n",
              "      <td>150</td>\n",
              "      <td>0.1</td>\n",
              "      <td>7</td>\n",
              "    </tr>\n",
              "    <tr>\n",
              "      <th>24</th>\n",
              "      <td>0.742871</td>\n",
              "      <td>0.688154</td>\n",
              "      <td>0.841227</td>\n",
              "      <td>0.898192</td>\n",
              "      <td>100</td>\n",
              "      <td>0.1</td>\n",
              "      <td>7</td>\n",
              "    </tr>\n",
              "    <tr>\n",
              "      <th>17</th>\n",
              "      <td>0.742364</td>\n",
              "      <td>0.687723</td>\n",
              "      <td>0.840892</td>\n",
              "      <td>0.898889</td>\n",
              "      <td>200</td>\n",
              "      <td>0.05</td>\n",
              "      <td>7</td>\n",
              "    </tr>\n",
              "    <tr>\n",
              "      <th>16</th>\n",
              "      <td>0.739597</td>\n",
              "      <td>0.683411</td>\n",
              "      <td>0.839598</td>\n",
              "      <td>0.897752</td>\n",
              "      <td>150</td>\n",
              "      <td>0.05</td>\n",
              "      <td>7</td>\n",
              "    </tr>\n",
              "    <tr>\n",
              "      <th>14</th>\n",
              "      <td>0.739564</td>\n",
              "      <td>0.681039</td>\n",
              "      <td>0.840137</td>\n",
              "      <td>0.896697</td>\n",
              "      <td>200</td>\n",
              "      <td>0.05</td>\n",
              "      <td>5</td>\n",
              "    </tr>\n",
              "    <tr>\n",
              "      <th>21</th>\n",
              "      <td>0.739376</td>\n",
              "      <td>0.681003</td>\n",
              "      <td>0.839993</td>\n",
              "      <td>0.896747</td>\n",
              "      <td>100</td>\n",
              "      <td>0.1</td>\n",
              "      <td>5</td>\n",
              "    </tr>\n",
              "    <tr>\n",
              "      <th>20</th>\n",
              "      <td>0.736891</td>\n",
              "      <td>0.672486</td>\n",
              "      <td>0.839957</td>\n",
              "      <td>0.895767</td>\n",
              "      <td>200</td>\n",
              "      <td>0.1</td>\n",
              "      <td>3</td>\n",
              "    </tr>\n",
              "    <tr>\n",
              "      <th>13</th>\n",
              "      <td>0.735710</td>\n",
              "      <td>0.676043</td>\n",
              "      <td>0.838125</td>\n",
              "      <td>0.894901</td>\n",
              "      <td>150</td>\n",
              "      <td>0.05</td>\n",
              "      <td>5</td>\n",
              "    </tr>\n",
              "    <tr>\n",
              "      <th>15</th>\n",
              "      <td>0.735551</td>\n",
              "      <td>0.678020</td>\n",
              "      <td>0.837514</td>\n",
              "      <td>0.895138</td>\n",
              "      <td>100</td>\n",
              "      <td>0.05</td>\n",
              "      <td>7</td>\n",
              "    </tr>\n",
              "    <tr>\n",
              "      <th>19</th>\n",
              "      <td>0.732092</td>\n",
              "      <td>0.667205</td>\n",
              "      <td>0.837250</td>\n",
              "      <td>0.893359</td>\n",
              "      <td>150</td>\n",
              "      <td>0.1</td>\n",
              "      <td>3</td>\n",
              "    </tr>\n",
              "    <tr>\n",
              "      <th>12</th>\n",
              "      <td>0.726497</td>\n",
              "      <td>0.663503</td>\n",
              "      <td>0.833489</td>\n",
              "      <td>0.891324</td>\n",
              "      <td>100</td>\n",
              "      <td>0.05</td>\n",
              "      <td>5</td>\n",
              "    </tr>\n",
              "    <tr>\n",
              "      <th>18</th>\n",
              "      <td>0.723819</td>\n",
              "      <td>0.656424</td>\n",
              "      <td>0.833046</td>\n",
              "      <td>0.889584</td>\n",
              "      <td>100</td>\n",
              "      <td>0.1</td>\n",
              "      <td>3</td>\n",
              "    </tr>\n",
              "    <tr>\n",
              "      <th>11</th>\n",
              "      <td>0.723452</td>\n",
              "      <td>0.656209</td>\n",
              "      <td>0.832794</td>\n",
              "      <td>0.889189</td>\n",
              "      <td>200</td>\n",
              "      <td>0.05</td>\n",
              "      <td>3</td>\n",
              "    </tr>\n",
              "    <tr>\n",
              "      <th>10</th>\n",
              "      <td>0.714346</td>\n",
              "      <td>0.643774</td>\n",
              "      <td>0.828398</td>\n",
              "      <td>0.885338</td>\n",
              "      <td>150</td>\n",
              "      <td>0.05</td>\n",
              "      <td>3</td>\n",
              "    </tr>\n",
              "    <tr>\n",
              "      <th>8</th>\n",
              "      <td>0.703941</td>\n",
              "      <td>0.627712</td>\n",
              "      <td>0.824014</td>\n",
              "      <td>0.886011</td>\n",
              "      <td>200</td>\n",
              "      <td>0.01</td>\n",
              "      <td>7</td>\n",
              "    </tr>\n",
              "    <tr>\n",
              "      <th>9</th>\n",
              "      <td>0.693821</td>\n",
              "      <td>0.617327</td>\n",
              "      <td>0.818408</td>\n",
              "      <td>0.876374</td>\n",
              "      <td>100</td>\n",
              "      <td>0.05</td>\n",
              "      <td>3</td>\n",
              "    </tr>\n",
              "    <tr>\n",
              "      <th>7</th>\n",
              "      <td>0.692928</td>\n",
              "      <td>0.607446</td>\n",
              "      <td>0.820564</td>\n",
              "      <td>0.883638</td>\n",
              "      <td>150</td>\n",
              "      <td>0.01</td>\n",
              "      <td>7</td>\n",
              "    </tr>\n",
              "    <tr>\n",
              "      <th>5</th>\n",
              "      <td>0.682910</td>\n",
              "      <td>0.596521</td>\n",
              "      <td>0.815366</td>\n",
              "      <td>0.877237</td>\n",
              "      <td>200</td>\n",
              "      <td>0.01</td>\n",
              "      <td>5</td>\n",
              "    </tr>\n",
              "    <tr>\n",
              "      <th>2</th>\n",
              "      <td>0.673427</td>\n",
              "      <td>0.594653</td>\n",
              "      <td>0.807772</td>\n",
              "      <td>0.860290</td>\n",
              "      <td>200</td>\n",
              "      <td>0.01</td>\n",
              "      <td>3</td>\n",
              "    </tr>\n",
              "    <tr>\n",
              "      <th>4</th>\n",
              "      <td>0.672615</td>\n",
              "      <td>0.577368</td>\n",
              "      <td>0.812695</td>\n",
              "      <td>0.874583</td>\n",
              "      <td>150</td>\n",
              "      <td>0.01</td>\n",
              "      <td>5</td>\n",
              "    </tr>\n",
              "    <tr>\n",
              "      <th>1</th>\n",
              "      <td>0.671614</td>\n",
              "      <td>0.589585</td>\n",
              "      <td>0.807855</td>\n",
              "      <td>0.858805</td>\n",
              "      <td>150</td>\n",
              "      <td>0.01</td>\n",
              "      <td>3</td>\n",
              "    </tr>\n",
              "    <tr>\n",
              "      <th>6</th>\n",
              "      <td>0.663929</td>\n",
              "      <td>0.554440</td>\n",
              "      <td>0.812994</td>\n",
              "      <td>0.880871</td>\n",
              "      <td>100</td>\n",
              "      <td>0.01</td>\n",
              "      <td>7</td>\n",
              "    </tr>\n",
              "    <tr>\n",
              "      <th>0</th>\n",
              "      <td>0.645427</td>\n",
              "      <td>0.531982</td>\n",
              "      <td>0.805244</td>\n",
              "      <td>0.855754</td>\n",
              "      <td>100</td>\n",
              "      <td>0.01</td>\n",
              "      <td>3</td>\n",
              "    </tr>\n",
              "    <tr>\n",
              "      <th>3</th>\n",
              "      <td>0.644136</td>\n",
              "      <td>0.525980</td>\n",
              "      <td>0.806346</td>\n",
              "      <td>0.871474</td>\n",
              "      <td>100</td>\n",
              "      <td>0.01</td>\n",
              "      <td>5</td>\n",
              "    </tr>\n",
              "  </tbody>\n",
              "</table>\n",
              "</div>"
            ],
            "text/plain": [
              "    mean_test_f1  mean_test_recall  mean_test_accuracy  mean_test_roc_auc  \\\n",
              "23      0.747348          0.691353            0.844222           0.899655   \n",
              "26      0.745391          0.694263            0.841910           0.898710   \n",
              "22      0.745186          0.688836            0.843012           0.898759   \n",
              "25      0.744998          0.692430            0.842006           0.898727   \n",
              "24      0.742871          0.688154            0.841227           0.898192   \n",
              "17      0.742364          0.687723            0.840892           0.898889   \n",
              "16      0.739597          0.683411            0.839598           0.897752   \n",
              "14      0.739564          0.681039            0.840137           0.896697   \n",
              "21      0.739376          0.681003            0.839993           0.896747   \n",
              "20      0.736891          0.672486            0.839957           0.895767   \n",
              "13      0.735710          0.676043            0.838125           0.894901   \n",
              "15      0.735551          0.678020            0.837514           0.895138   \n",
              "19      0.732092          0.667205            0.837250           0.893359   \n",
              "12      0.726497          0.663503            0.833489           0.891324   \n",
              "18      0.723819          0.656424            0.833046           0.889584   \n",
              "11      0.723452          0.656209            0.832794           0.889189   \n",
              "10      0.714346          0.643774            0.828398           0.885338   \n",
              "8       0.703941          0.627712            0.824014           0.886011   \n",
              "9       0.693821          0.617327            0.818408           0.876374   \n",
              "7       0.692928          0.607446            0.820564           0.883638   \n",
              "5       0.682910          0.596521            0.815366           0.877237   \n",
              "2       0.673427          0.594653            0.807772           0.860290   \n",
              "4       0.672615          0.577368            0.812695           0.874583   \n",
              "1       0.671614          0.589585            0.807855           0.858805   \n",
              "6       0.663929          0.554440            0.812994           0.880871   \n",
              "0       0.645427          0.531982            0.805244           0.855754   \n",
              "3       0.644136          0.525980            0.806346           0.871474   \n",
              "\n",
              "   param_n_estimators param_learning_rate param_max_depth  \n",
              "23                200                 0.1               5  \n",
              "26                200                 0.1               7  \n",
              "22                150                 0.1               5  \n",
              "25                150                 0.1               7  \n",
              "24                100                 0.1               7  \n",
              "17                200                0.05               7  \n",
              "16                150                0.05               7  \n",
              "14                200                0.05               5  \n",
              "21                100                 0.1               5  \n",
              "20                200                 0.1               3  \n",
              "13                150                0.05               5  \n",
              "15                100                0.05               7  \n",
              "19                150                 0.1               3  \n",
              "12                100                0.05               5  \n",
              "18                100                 0.1               3  \n",
              "11                200                0.05               3  \n",
              "10                150                0.05               3  \n",
              "8                 200                0.01               7  \n",
              "9                 100                0.05               3  \n",
              "7                 150                0.01               7  \n",
              "5                 200                0.01               5  \n",
              "2                 200                0.01               3  \n",
              "4                 150                0.01               5  \n",
              "1                 150                0.01               3  \n",
              "6                 100                0.01               7  \n",
              "0                 100                0.01               3  \n",
              "3                 100                0.01               5  "
            ]
          },
          "execution_count": 46,
          "metadata": {},
          "output_type": "execute_result"
        }
      ],
      "source": [
        "# print the results\n",
        "results = pd.DataFrame(grid_result.cv_results_)\n",
        "results.sort_values(by='rank_test_f1', inplace=True)\n",
        "results[['mean_test_f1', 'mean_test_recall', 'mean_test_accuracy', 'mean_test_roc_auc',\n",
        "         'param_n_estimators', 'param_learning_rate', 'param_max_depth']].head(5)"
      ]
    },
    {
      "cell_type": "markdown",
      "metadata": {},
      "source": [
        "Se observa una métrica AUC de 0.899 para la configuración con mejor score F1."
      ]
    },
    {
      "cell_type": "markdown",
      "metadata": {},
      "source": [
        "### Validación"
      ]
    },
    {
      "cell_type": "code",
      "execution_count": 30,
      "metadata": {},
      "outputs": [
        {
          "name": "stdout",
          "output_type": "stream",
          "text": [
            "Accuracy: 89.88%\n",
            "Precision: 30.61%\n",
            "Recall: 54.08%\n",
            "F1: 39.09%\n"
          ]
        }
      ],
      "source": [
        "# validate the model on test dataset\n",
        "y_pred = grid_result.best_estimator_.predict(X_test)\n",
        "\n",
        "# evaluate predictions\n",
        "accuracy = accuracy_score(y_test, y_pred)\n",
        "precision = precision_score(y_test, y_pred)\n",
        "recall = recall_score(y_test, y_pred)\n",
        "f1 = f1_score(y_test, y_pred)\n",
        "\n",
        "print(\"Accuracy: %.2f%%\" % (accuracy * 100.0))\n",
        "print(\"Precision: %.2f%%\" % (precision * 100.0))\n",
        "print(\"Recall: %.2f%%\" % (recall * 100.0))\n",
        "print(\"F1: %.2f%%\" % (f1 * 100.0))\n",
        "\n"
      ]
    },
    {
      "cell_type": "markdown",
      "metadata": {},
      "source": [
        "Se obtiene un recall (sensibilidad) del 54.08%. Esto significa que el 54.08% de las predicciones son relevantes; personas que realmente van a presentar incumplimiento. Esta es una métrica muy importante para validar la capacidad predictiva del modelo."
      ]
    },
    {
      "cell_type": "code",
      "execution_count": 35,
      "metadata": {},
      "outputs": [
        {
          "data": {
            "image/png": "[encoded data removed]",
            "text/plain": [
              "<Figure size 640x480 with 2 Axes>"
            ]
          },
          "metadata": {},
          "output_type": "display_data"
        }
      ],
      "source": [
        "cm = confusion_matrix(y_test, y_pred)\n",
        "\n",
        "disp = ConfusionMatrixDisplay(confusion_matrix=cm, display_labels=['No Incumplimiento', 'Incumplimiento'])\n",
        "disp.plot()\n",
        "plt.show()"
      ]
    },
    {
      "cell_type": "code",
      "execution_count": 31,
      "metadata": {},
      "outputs": [
        {
          "name": "stdout",
          "output_type": "stream",
          "text": [
            "AUC: 0.855\n"
          ]
        },
        {
          "data": {
            "image/png": "[encoded data removed]",
            "text/plain": [
              "<Figure size 640x480 with 1 Axes>"
            ]
          },
          "metadata": {},
          "output_type": "display_data"
        }
      ],
      "source": [
        "# roc curve for gradient boosting model\n",
        "# predict probabilities\n",
        "probs = grid_result.best_estimator_.predict_proba(X_test)\n",
        "# keep probabilities for the positive outcome only\n",
        "probs = probs[:, 1]\n",
        "# calculate AUC\n",
        "auc_score = roc_auc_score(y_test, probs)\n",
        "print('AUC: %.3f' % auc_score)\n",
        "\n",
        "# plot roc curve\n",
        "fpr, tpr, thresholds = roc_curve(y_test, probs)\n",
        "plt.plot([0, 1], [0, 1], linestyle='--')\n",
        "plt.plot(fpr, tpr, marker='.')\n",
        "plt.title('ROC curve')\n",
        "plt.xlabel('False Positive Rate')\n",
        "plt.ylabel('True Positive Rate')\n",
        "plt.show()"
      ]
    },
    {
      "cell_type": "code",
      "execution_count": 29,
      "metadata": {},
      "outputs": [
        {
          "data": {
            "text/plain": [
              "['model/gradient_boosting_model.sav']"
            ]
          },
          "execution_count": 29,
          "metadata": {},
          "output_type": "execute_result"
        }
      ],
      "source": [
        "# save the model to disk\n",
        "filename = 'model/gradient_boosting_model.sav'\n",
        "joblib.dump(grid_result.best_estimator_, filename)"
      ]
    },
    {
      "cell_type": "markdown",
      "metadata": {},
      "source": [
        "## XGBoost\n",
        "Este modelo fue el segundo con mejores resultados en la etapa de selección del modelo. Vamos a ejecutar nuevamente un gridsearch para encontrar los mejores hipérparametros y luego entrenar el modelo con estos."
      ]
    },
    {
      "cell_type": "code",
      "execution_count": 65,
      "metadata": {},
      "outputs": [
        {
          "name": "stdout",
          "output_type": "stream",
          "text": [
            "Best: 0.762928 using {'learning_rate': 0.1, 'max_depth': 5, 'n_estimators': 200}\n"
          ]
        }
      ],
      "source": [
        "# define the model with default hyperparameters\n",
        "model = XGBClassifier(random_state=231)\n",
        "\n",
        "# define the grid of values to search\n",
        "grid = dict()\n",
        "grid['n_estimators'] = [100, 150, 200]\n",
        "grid['learning_rate'] = [0.01, 0.05, 0.1]\n",
        "grid['max_depth'] = [3, 5, 7]\n",
        "\n",
        "# define the evaluation procedure\n",
        "cv = RepeatedStratifiedKFold(n_splits=6, n_repeats=1, random_state=1)\n",
        "\n",
        "# define the grid search procedure\n",
        "grid_search = GridSearchCV(estimator=model, param_grid=grid, n_jobs=-1, cv=cv, refit=\"f1\",\n",
        "                           scoring=['f1', 'recall', 'accuracy', 'roc_auc'], error_score=0)\n",
        "\n",
        "# execute the grid search\n",
        "grid_result = grid_search.fit(X_train, y_train)\n",
        "\n",
        "# summarize the best score and configuration\n",
        "print(\"Best: %f using %s\" % (grid_result.best_score_, grid_result.best_params_))\n"
      ]
    },
    {
      "cell_type": "code",
      "execution_count": 108,
      "metadata": {},
      "outputs": [],
      "source": [
        "# xgboost model\n",
        "modelXGB = XGBClassifier( n_estimators = 150, learning_rate=0.05, max_depth = 5) \\\n",
        "                .fit(X_train, y_train)"
      ]
    },
    {
      "cell_type": "markdown",
      "metadata": {},
      "source": [
        "### Validación"
      ]
    },
    {
      "cell_type": "code",
      "execution_count": 110,
      "metadata": {},
      "outputs": [
        {
          "name": "stdout",
          "output_type": "stream",
          "text": [
            "Accuracy: 90.00%\n",
            "Precision: 31.18%\n",
            "Recall: 55.15%\n",
            "F1: 39.84%\n",
            "AUC: 0.857\n"
          ]
        },
        {
          "data": {
            "image/png": "[encoded data removed]",
            "text/plain": [
              "<Figure size 640x480 with 1 Axes>"
            ]
          },
          "metadata": {},
          "output_type": "display_data"
        }
      ],
      "source": [
        "# validate the model on test dataset\n",
        "y_pred = modelXGB.predict(X_test)\n",
        "\n",
        "# evaluate predictions\n",
        "accuracy = accuracy_score(y_test, y_pred)\n",
        "precision = precision_score(y_test, y_pred)\n",
        "recall = recall_score(y_test, y_pred)\n",
        "f1 = f1_score(y_test, y_pred)\n",
        "\n",
        "print(\"Accuracy: %.2f%%\" % (accuracy * 100.0))\n",
        "print(\"Precision: %.2f%%\" % (precision * 100.0))\n",
        "print(\"Recall: %.2f%%\" % (recall * 100.0))\n",
        "print(\"F1: %.2f%%\" % (f1 * 100.0))\n",
        "\n",
        "# roc curve\n",
        "# predict probabilities\n",
        "probs = modelXGB.predict_proba(X_test)\n",
        "# keep probabilities for the positive outcome only\n",
        "probs = probs[:, 1]\n",
        "# calculate AUC\n",
        "auc_score = roc_auc_score(y_test, probs)\n",
        "print('AUC: %.3f' % auc_score)\n",
        "\n",
        "# plot roc curve\n",
        "fpr, tpr, thresholds = roc_curve(y_test, probs)\n",
        "plt.plot([0, 1], [0, 1], linestyle='--')\n",
        "plt.plot(fpr, tpr, marker='.')\n",
        "plt.title('ROC curve')\n",
        "plt.xlabel('False Positive Rate')\n",
        "plt.ylabel('True Positive Rate')\n",
        "plt.show()\n"
      ]
    },
    {
      "cell_type": "code",
      "execution_count": 111,
      "metadata": {},
      "outputs": [
        {
          "data": {
            "image/png": "[encoded data removed]",
            "text/plain": [
              "<Figure size 640x480 with 2 Axes>"
            ]
          },
          "metadata": {},
          "output_type": "display_data"
        }
      ],
      "source": [
        "cm = confusion_matrix(y_test, y_pred)\n",
        "\n",
        "disp = ConfusionMatrixDisplay(confusion_matrix=cm, display_labels=['No Incumplimiento', 'Incumplimiento'])\n",
        "disp.plot()\n",
        "plt.show()"
      ]
    },
    {
      "cell_type": "code",
      "execution_count": 112,
      "metadata": {},
      "outputs": [
        {
          "data": {
            "text/plain": [
              "['model/xgboost_model.sav']"
            ]
          },
          "execution_count": 112,
          "metadata": {},
          "output_type": "execute_result"
        }
      ],
      "source": [
        "# save the model to disk\n",
        "filename = 'model/xgboost_model.sav'\n",
        "joblib.dump(grid_result.best_estimator_, filename)"
      ]
    }
  ],
  "metadata": {
    "colab": {
      "provenance": []
    },
    "kernelspec": {
      "display_name": "Python 3",
      "name": "python3"
    },
    "language_info": {
      "codemirror_mode": {
        "name": "ipython",
        "version": 3
      },
      "file_extension": ".py",
      "mimetype": "text/x-python",
      "name": "python",
      "nbconvert_exporter": "python",
      "pygments_lexer": "ipython3",
      "version": "3.10.13"
    }
  },
  "nbformat": 4,
  "nbformat_minor": 0
}
