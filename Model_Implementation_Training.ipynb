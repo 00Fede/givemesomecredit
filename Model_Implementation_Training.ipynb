{
 "cells": [
  {
   "cell_type": "markdown",
   "metadata": {},
   "source": [
    "# Predicción de default financiero usando métodos de aprendizaje automático\n",
    "### Implementación del modelo y entrenamiento\n",
    "\n",
    "**Estudiantes**\n",
    "\n",
    "Federico Ocampo Ortiz, Ing. Sistemas. e-mail: federico.ocampoo@udea.edu.co\n",
    "\n",
    "Andrés Felipe Orrego Quintero. Ing. Sistemas. e-mail: andres.orrego2@udea.edu.co\n",
    "\n",
    "**Asesora**\n",
    "\n",
    "Maria Bernarda Salazar Sánchez, PhD. e-mail: bernarda.salazar@udea.edu.co"
   ]
  },
  {
   "cell_type": "code",
   "execution_count": 35,
   "metadata": {},
   "outputs": [],
   "source": [
    "import pandas as pd\n",
    "from sklearn.model_selection import train_test_split\n",
    "\n",
    "from sklearn.dummy import DummyClassifier\n",
    "from xgboost import XGBClassifier\n",
    "\n",
    "# roc curve \n",
    "from sklearn.metrics import roc_curve, auc\n",
    "import matplotlib.pyplot as plt"
   ]
  },
  {
   "cell_type": "markdown",
   "metadata": {},
   "source": [
    "# Dataset"
   ]
  },
  {
   "cell_type": "code",
   "execution_count": 9,
   "metadata": {},
   "outputs": [
    {
     "name": "stdout",
     "output_type": "stream",
     "text": [
      "<class 'pandas.core.frame.DataFrame'>\n",
      "RangeIndex: 140742 entries, 0 to 140741\n",
      "Data columns (total 12 columns):\n",
      " #   Column                          Non-Null Count   Dtype  \n",
      "---  ------                          --------------   -----  \n",
      " 0   Incumplimiento                  140742 non-null  int64  \n",
      " 1   TasaUtilizacionLineasRotativas  140742 non-null  float64\n",
      " 2   Edad                            140742 non-null  float64\n",
      " 3   Mora30a59dias                   140742 non-null  float64\n",
      " 4   RazonDeudaMensual               140742 non-null  float64\n",
      " 5   IngresoMensual                  140742 non-null  float64\n",
      " 6   CantidadCreditosActivos         140742 non-null  float64\n",
      " 7   MoraMayorA90                    140742 non-null  float64\n",
      " 8   CantidadCreditosDeVivienda      140742 non-null  float64\n",
      " 9   Mora60a89dias                   140742 non-null  float64\n",
      " 10  CantidadDependientes            140742 non-null  float64\n",
      " 11  OcurrenciasMora                 140742 non-null  float64\n",
      "dtypes: float64(11), int64(1)\n",
      "memory usage: 12.9 MB\n"
     ]
    }
   ],
   "source": [
    "# read file from the path\n",
    "df = pd.read_csv('data/Preprocessed_Data.csv')\n",
    "df.info()"
   ]
  },
  {
   "cell_type": "code",
   "execution_count": 12,
   "metadata": {},
   "outputs": [],
   "source": [
    "# features list\n",
    "features = df.columns.tolist()\n",
    "features.remove('Incumplimiento')\n",
    "\n",
    "X = df[features]\n",
    "y = df['Incumplimiento']"
   ]
  },
  {
   "cell_type": "markdown",
   "metadata": {},
   "source": [
    "# Balance de clases\n",
    "¿Donde se trabaja esto?"
   ]
  },
  {
   "cell_type": "markdown",
   "metadata": {},
   "source": [
    "# Conjunto de datos"
   ]
  },
  {
   "cell_type": "code",
   "execution_count": 14,
   "metadata": {},
   "outputs": [
    {
     "name": "stdout",
     "output_type": "stream",
     "text": [
      "X_train shape: (98519, 11)\n",
      "X_test shape: (42223, 11)\n",
      "y_train shape: (98519,)\n",
      "y_test shape: (42223,)\n"
     ]
    }
   ],
   "source": [
    "# split the data into train and test\n",
    "X_train, X_test, y_train, y_test = train_test_split(X, y, test_size=0.3, random_state=42)\n",
    "\n",
    "print(f\"X_train shape: {X_train.shape}\")\n",
    "print(f\"X_test shape: {X_test.shape}\")\n",
    "\n",
    "print(f\"y_train shape: {y_train.shape}\")\n",
    "print(f\"y_test shape: {y_test.shape}\")"
   ]
  },
  {
   "cell_type": "markdown",
   "metadata": {},
   "source": [
    "# Implementación del modelo\n",
    "Primero iniciamos con un clasificador dummy que predice sin tener en cuenta las variables de entradas. En este caso predice que todas las salidas son 0, lo que significa que todas las personas pagan sus créditos. Este clasificador nos sirve como base para comparar los resultados de los otros clasificadores."
   ]
  },
  {
   "cell_type": "code",
   "execution_count": 15,
   "metadata": {},
   "outputs": [
    {
     "data": {
      "text/plain": [
       "0.9419984368708998"
      ]
     },
     "execution_count": 15,
     "metadata": {},
     "output_type": "execute_result"
    }
   ],
   "source": [
    "# implement naive model to check the accuracy\n",
    "dummy_clf = DummyClassifier(strategy=\"most_frequent\")\n",
    "dummy_clf.fit(X_train, y_train)\n",
    "dummy_clf.score(X_test, y_test)"
   ]
  },
  {
   "cell_type": "code",
   "execution_count": 18,
   "metadata": {},
   "outputs": [
    {
     "data": {
      "text/plain": [
       "0.9422826421618549"
      ]
     },
     "execution_count": 18,
     "metadata": {},
     "output_type": "execute_result"
    }
   ],
   "source": [
    "xgb_clf = XGBClassifier()\n",
    "xgb_clf.fit(X_train, y_train)\n",
    "xgb_clf.score(X_test, y_test)"
   ]
  },
  {
   "cell_type": "markdown",
   "metadata": {},
   "source": [
    "El modelo XGB ya arroje buenos resultados con los parametros predeterminados, que son los siguientes: learning_rate=0.300000012; max_depth=6; n_estimators=100."
   ]
  },
  {
   "cell_type": "code",
   "execution_count": 21,
   "metadata": {},
   "outputs": [
    {
     "data": {
      "text/plain": [
       "0.943727352390877"
      ]
     },
     "execution_count": 21,
     "metadata": {},
     "output_type": "execute_result"
    }
   ],
   "source": [
    "# ModelXGB\n",
    "modelXGB = XGBClassifier( n_estimators = 150, learning_rate=0.05, max_depth = 5) \\\n",
    "                .fit(X_train, y_train)\n",
    "modelXGB.score(X_test, y_test)"
   ]
  },
  {
   "cell_type": "code",
   "execution_count": 34,
   "metadata": {},
   "outputs": [
    {
     "data": {
      "image/png": "[encoded data removed]",
      "text/plain": [
       "<Figure size 640x480 with 1 Axes>"
      ]
     },
     "metadata": {},
     "output_type": "display_data"
    }
   ],
   "source": [
    "y_pred_proba = modelXGB.predict_proba(X_test)[::,1]\n",
    "fpr, tpr, th = roc_curve(y_test,  y_pred_proba, pos_label=1)\n",
    "auc = auc(fpr, tpr)\n",
    "\n",
    "plt.plot(fpr, tpr,label=\"auc=\"+str(auc))\n",
    "plt.legend(loc=4)\n",
    "plt.show()\n"
   ]
  }
 ],
 "metadata": {
  "kernelspec": {
   "display_name": "bd_prueba",
   "language": "python",
   "name": "python3"
  },
  "language_info": {
   "codemirror_mode": {
    "name": "ipython",
    "version": 3
   },
   "file_extension": ".py",
   "mimetype": "text/x-python",
   "name": "python",
   "nbconvert_exporter": "python",
   "pygments_lexer": "ipython3",
   "version": "3.9.18"
  }
 },
 "nbformat": 4,
 "nbformat_minor": 2
}
